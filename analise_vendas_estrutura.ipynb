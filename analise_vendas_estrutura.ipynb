{
 "cells": [
  {
   "cell_type": "markdown",
   "id": "4a14087b",
   "metadata": {},
   "source": [
    "# 📊 Análise de Vendas de E-commerce\n",
    "\n",
    "Este notebook tem como objetivo explorar e analisar dados de vendas de uma loja fictícia."
   ]
  },
  {
   "cell_type": "markdown",
   "id": "7d2a39d9",
   "metadata": {},
   "source": [
    "## Importação das bibliotecas"
   ]
  },
  {
   "cell_type": "code",
   "execution_count": null,
   "id": "7c2091f1",
   "metadata": {},
   "outputs": [],
   "source": [
    "import pandas as pd\n",
    "import matplotlib.pyplot as plt"
   ]
  },
  {
   "cell_type": "markdown",
   "id": "a4d9d6e9",
   "metadata": {},
   "source": [
    "## Carregamento do dataset"
   ]
  },
  {
   "cell_type": "code",
   "execution_count": null,
   "id": "7d087067",
   "metadata": {},
   "outputs": [],
   "source": [
    "# Lê o arquivo CSV com pandas\n",
    "tabela_vendas = pd.read_csv(r'vendas_ecommerce_ficticio.csv')\n",
    "soma_total = tabela_vendas['Valor Total'].sum()\n",
    "print(f'Total vendido: R${soma_total:,.2f}')\n",
    "\n",
    "\n"
   ]
  },
  {
   "cell_type": "markdown",
   "id": "8e829118",
   "metadata": {},
   "source": [
    "## Exploração inicial dos dados\n",
    "- Visualiza as primeiras linhas\n",
    "- Vê os tipos de dados\n",
    "- Checa valores nulos"
   ]
  },
  {
   "cell_type": "code",
   "execution_count": null,
   "id": "74d9407d",
   "metadata": {},
   "outputs": [],
   "source": [
    "\n",
    "tabela_vendas.info()\n",
    "display(tabela_vendas.head(5))\n",
    "print(tabela_vendas.isnull().sum())\n",
    "soma_total = tabela_vendas['Valor Total'].sum()\n",
    "print(f'Total vendido: R${soma_total:,.2f}')\n"
   ]
  },
  {
   "cell_type": "markdown",
   "id": "72ab6d54",
   "metadata": {},
   "source": [
    "## Limpeza e ajustes\n",
    "- Ajustar tipos de dados (se necessário)\n",
    "- Tratar valores ausentes\n",
    "- Criar colunas novas (ex: mês da venda)"
   ]
  },
  {
   "cell_type": "code",
   "execution_count": null,
   "id": "7a84bfd5",
   "metadata": {},
   "outputs": [],
   "source": [
    "# Faz ajustes necessários nos dados\n",
    "tabela_vendas['Data da Venda'] = pd.to_datetime(tabela_vendas['Data da Venda'])\n",
    "tabela_vendas.dtypes\n"
   ]
  },
  {
   "cell_type": "code",
   "execution_count": null,
   "id": "b4ee021c",
   "metadata": {},
   "outputs": [],
   "source": [
    "# criando colunas ano, mes e dia da venda\n",
    "tabela_vendas['Ano'] = tabela_vendas['Data da Venda'].dt.year\n",
    "tabela_vendas['Mes'] = tabela_vendas['Data da Venda'].dt.month\n",
    "tabela_vendas['Dia'] = tabela_vendas['Data da Venda'].dt.day\n",
    "display(tabela_vendas)\n",
    "\n"
   ]
  },
  {
   "cell_type": "markdown",
   "id": "19f69041",
   "metadata": {},
   "source": [
    "## Análises exploratórias\n",
    "- Total de vendas por mês\n",
    "- Produtos mais vendidos\n",
    "- Ticket médio por cliente\n",
    "- Faturamento por canal\n",
    "- Vendas por região"
   ]
  },
  {
   "cell_type": "code",
   "execution_count": null,
   "id": "e4e61201",
   "metadata": {},
   "outputs": [],
   "source": [
    "# Total de vendas por mês \n",
    "vendas_mensais = tabela_vendas.groupby('Mes')['Valor Total'].sum()\n",
    "print(vendas_mensais)\n",
    "\n",
    "# produtos mais vendidos\n",
    "produtos_mais_vendidos = tabela_vendas.groupby('Produto')['Quantidade'].sum()\n",
    "display(produtos_mais_vendidos)\n",
    "\n",
    "#faturamento por produto\n",
    "faturamento_produto = tabela_vendas.groupby('Produto')['Valor Total'].sum()\n",
    "display(faturamento_produto)\n",
    "\n",
    "#ticket medio\n",
    "ticket_medio = tabela_vendas.groupby('Cliente')['Valor Total'].mean()\n",
    "display(ticket_medio)\n",
    "\n",
    "# Venda por canal\n",
    "venda_canal = tabela_vendas.groupby('Canal de Venda')['Valor Total'].sum()\n",
    "display(venda_canal)\n",
    "\n",
    "# faturamento por regiao\n",
    "faturamento_regional = tabela_vendas.groupby('Região')['Valor Total'].sum()\n",
    "display(faturamento_regional)\n",
    "\n",
    "# total venda por cliente\n",
    "venda_cliente = tabela_vendas.groupby('Cliente')['Quantidade'].sum()\n",
    "display(venda_cliente)"
   ]
  },
  {
   "cell_type": "markdown",
   "id": "267a4add",
   "metadata": {},
   "source": [
    "##  Visualização dos dados\n",
    "- Gráficos"
   ]
  },
  {
   "cell_type": "code",
   "execution_count": null,
   "id": "20cc840b",
   "metadata": {},
   "outputs": [],
   "source": [
    "# grafico total vendas por mes\n",
    "plt.figure(figsize=(10, 5))\n",
    "vendas_mensais.plot(kind='line', marker='o')\n",
    "plt.title('Vendas Mensais')\n",
    "plt.xlabel(\"Mês\")\n",
    "plt.ylabel('Valor')\n",
    "plt.show()"
   ]
  },
  {
   "cell_type": "code",
   "execution_count": null,
   "id": "f129d712",
   "metadata": {},
   "outputs": [],
   "source": [
    "# grafico produtos mais vendidos\n",
    "plt.figure(figsize=(10, 5))\n",
    "produtos_mais_vendidos.sort_values(ascending=True).plot(kind='barh')\n",
    "plt.title('Quantidade de vendas/produto')\n",
    "plt.xlabel(\"Unidades\")\n",
    "plt.ylabel('Produto')\n",
    "plt.grid(True)\n",
    "plt.show()"
   ]
  },
  {
   "cell_type": "code",
   "execution_count": null,
   "id": "6be7707e",
   "metadata": {},
   "outputs": [],
   "source": [
    "# grafico faturamento por produto\n",
    "plt.figure(figsize=(10, 5))\n",
    "faturamento_produto.sort_values(ascending=False).plot(kind='bar')\n",
    "plt.title('Faturamento por produto')\n",
    "plt.xlabel('Produto')\n",
    "plt.ylabel('Valor')\n",
    "plt.grid(True)\n",
    "plt.show()"
   ]
  },
  {
   "cell_type": "code",
   "execution_count": null,
   "id": "f435b536",
   "metadata": {},
   "outputs": [],
   "source": [
    "# grafico Venda por canal\n",
    "plt.figure(figsize=(10, 5))\n",
    "venda_canal.plot(kind='pie', autopct='%1.1f%%')\n",
    "plt.title('Participação por Canal de Venda')\n",
    "plt.ylabel('')\n",
    "plt.tight_layout()\n",
    "plt.show()"
   ]
  },
  {
   "cell_type": "code",
   "execution_count": null,
   "id": "00b297da",
   "metadata": {},
   "outputs": [],
   "source": [
    "# grafico faturamento regional\n",
    "plt.figure(figsize=(10, 5))\n",
    "faturamento_regional.plot(kind='pie', autopct='%1.1f%%')\n",
    "plt.ylabel('')\n",
    "plt.tight_layout()\n",
    "plt.show()"
   ]
  },
  {
   "cell_type": "markdown",
   "id": "119cfcaf",
   "metadata": {},
   "source": [
    "## Conclusões\n"
   ]
  },
  {
   "cell_type": "code",
   "execution_count": null,
   "id": "f6a3934a",
   "metadata": {},
   "outputs": [],
   "source": [
    "# Gera um relatório ou exporte os resultados\n",
    "### Conclusões\n",
    "\n",
    "'''Com base na análise dos dados de vendas do e-commerce, podemos destacar os seguintes insights principais:\n",
    "\n",
    "    - O mês com maior volume de vendas** foi **março**, com um pico significativo de faturamento. Isso pode indicar uma oportunidade de reforçar ações promocionais nesse período.\n",
    "\n",
    "    - O produto mais vendido em quantidade** foi o **Notebook Gamer**, o que mostra alta demanda por tecnologia. No entanto, **Smart TV 60\"** teve o **maior faturamento**, indicando que produtos de maior valor unitário contribuem mais para a receita.\n",
    "\n",
    "    - O ticket médio por cliente** teve bastante variação, o que pode indicar diferentes perfis de consumo. Essa informação pode ser útil para campanhas de fidelização ou ofertas segmentadas.\n",
    "\n",
    "    - O canal de vendas mais lucrativo** foi o **site**, representando a maior parte da receita. Isso mostra que a presença digital da empresa está bem estabelecida e deve continuar sendo prioridade.\n",
    "\n",
    "    - A região Sudeste** concentrou o maior faturamento entre todas as regiões, o que pode indicar uma base de clientes mais consolidada ou poder aquisitivo mais elevado na região.\n",
    "\n",
    "    - No geral, a empresa apresenta **bons resultados em seus canais e mix de produtos**, mas ainda existem **oportunidades de crescimento em regiões menos exploradas**, e também no aumento do ticket médio por cliente.\n",
    "\n",
    "    Esses insights podem ajudar a orientar estratégias de marketing, precificação, distribuição e vendas futuras.'''\n",
    "\n",
    "\n"
   ]
  },
  {
   "cell_type": "code",
   "execution_count": null,
   "id": "4591e9f2",
   "metadata": {},
   "outputs": [],
   "source": []
  }
 ],
 "metadata": {
  "kernelspec": {
   "display_name": "Python 3",
   "language": "python",
   "name": "python3"
  },
  "language_info": {
   "codemirror_mode": {
    "name": "ipython",
    "version": 3
   },
   "file_extension": ".py",
   "mimetype": "text/x-python",
   "name": "python",
   "nbconvert_exporter": "python",
   "pygments_lexer": "ipython3",
   "version": "3.12.4"
  }
 },
 "nbformat": 4,
 "nbformat_minor": 5
}
